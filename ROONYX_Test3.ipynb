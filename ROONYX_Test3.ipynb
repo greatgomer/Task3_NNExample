{
 "cells": [
  {
   "cell_type": "code",
   "execution_count": 79,
   "metadata": {
    "scrolled": true
   },
   "outputs": [],
   "source": [
    "import pandas as pd\n",
    "import numpy as np\n",
    "from sklearn.preprocessing import LabelEncoder\n",
    "from sklearn.model_selection import train_test_split\n",
    "from numpy import exp"
   ]
  },
  {
   "cell_type": "code",
   "execution_count": 80,
   "metadata": {
    "scrolled": true
   },
   "outputs": [
    {
     "name": "stderr",
     "output_type": "stream",
     "text": [
      "C:\\Users\\Victor\\anaconda3\\lib\\site-packages\\ipykernel_launcher.py:6: SettingWithCopyWarning: \n",
      "A value is trying to be set on a copy of a slice from a DataFrame.\n",
      "Try using .loc[row_indexer,col_indexer] = value instead\n",
      "\n",
      "See the caveats in the documentation: https://pandas.pydata.org/pandas-docs/stable/user_guide/indexing.html#returning-a-view-versus-a-copy\n",
      "  \n"
     ]
    }
   ],
   "source": [
    "df = pd.read_csv('data/WA_Fn-UseC_-Telco-Customer-Churn.csv')\n",
    "label_encoder = LabelEncoder()\n",
    "categorical_columns = ['tenure', 'Contract', 'InternetService', 'Churn']\n",
    "df2 = df[categorical_columns]\n",
    "for column in categorical_columns:\n",
    "    df2[column] = label_encoder.fit_transform(df2[column])"
   ]
  },
  {
   "cell_type": "markdown",
   "metadata": {},
   "source": [
    "### Sigmoid and sigmoid derivative"
   ]
  },
  {
   "cell_type": "code",
   "execution_count": 81,
   "metadata": {},
   "outputs": [],
   "source": [
    "def sigmoid(x):\n",
    "        return 1 / (1 + exp(-x))\n",
    "    \n",
    "def sigmoid_derivative(x):\n",
    "    fx = sigmoid(x)\n",
    "    return fx * (1 - fx)\n",
    "\n",
    "# Binary Cross-Entropy loss function\n",
    "def cross_entropy(Y, Y_predicted):\n",
    "    for y, y_hat in zip(Y, Y_predicted):\n",
    "        if y == 1:\n",
    "          return -np.log(y_hat)\n",
    "        else:\n",
    "          return -np.log(1 - y_hat)\n",
    "\n",
    "def derivative_cross_entropy(y_hat, y):\n",
    "    if y == 1:\n",
    "      return -1/y_hat\n",
    "    else:\n",
    "      return 1 / (1 - y_hat)"
   ]
  },
  {
   "cell_type": "code",
   "execution_count": 82,
   "metadata": {},
   "outputs": [],
   "source": [
    "data_for_train = df2[['tenure', 'InternetService', 'Contract']]\n",
    "data_for_train\n",
    "target_vector = df2['Churn']\n",
    "target_vector\n",
    "\n",
    "X_train, X_test, Y_train, Y_test = train_test_split(\n",
    "data_for_train, target_vector, test_size=0.2, random_state=42)\n",
    "X_train = np.array(X_train)\n",
    "Y_train = np.array(Y_train)\n",
    "X_test = np.array(X_test)\n",
    "Y_test = np.array(Y_test)"
   ]
  },
  {
   "cell_type": "markdown",
   "metadata": {},
   "source": [
    "### Normalize"
   ]
  },
  {
   "cell_type": "code",
   "execution_count": 83,
   "metadata": {},
   "outputs": [
    {
     "name": "stderr",
     "output_type": "stream",
     "text": [
      "C:\\Users\\Victor\\anaconda3\\lib\\site-packages\\ipykernel_launcher.py:2: SettingWithCopyWarning: \n",
      "A value is trying to be set on a copy of a slice from a DataFrame.\n",
      "Try using .loc[row_indexer,col_indexer] = value instead\n",
      "\n",
      "See the caveats in the documentation: https://pandas.pydata.org/pandas-docs/stable/user_guide/indexing.html#returning-a-view-versus-a-copy\n",
      "  \n"
     ]
    }
   ],
   "source": [
    "for i in ['tenure']:\n",
    "    df2[i] = df2[i] / 72"
   ]
  },
  {
   "cell_type": "code",
   "execution_count": 84,
   "metadata": {},
   "outputs": [],
   "source": [
    "class Neuron:\n",
    "    def __init__(self, weights, bias):\n",
    "        self.weights = weights\n",
    "        self.bias = bias\n",
    "        self.total = None\n",
    "        \n",
    "    def feedforward(self, inputs):\n",
    "        self.total = np.dot(self.weights, inputs) + self.bias\n",
    "        return sigmoid(self.total)\n",
    "    \n",
    "def random_weights():\n",
    "    return np.array([np.random.normal(), np.random.normal(), np.random.normal()])\n",
    "bias = -2"
   ]
  },
  {
   "cell_type": "code",
   "execution_count": 1,
   "metadata": {},
   "outputs": [],
   "source": [
    "class NeuralNetwork:\n",
    "    def __init__(self):\n",
    "        self.neuron1 = Neuron(random_weights(), 0)\n",
    "        self.neuron2 = Neuron(random_weights(), 0)\n",
    "        self.neuron3 = Neuron(random_weights(), 0)\n",
    "        self.neuron4 = Neuron(random_weights(), 0)\n",
    "        self.h1 = None\n",
    "        self.h2 = None\n",
    "        self.h3 = None\n",
    "        self.o1 = None\n",
    "        \n",
    "    def feedforward(self, inputs):\n",
    "        self.h1 = self.neuron1.feedforward(inputs)\n",
    "        self.h2 = self.neuron2.feedforward(inputs)\n",
    "        self.h3 = self.neuron3.feedforward(inputs)\n",
    "        self.o1 = self.neuron4.feedforward([self.h1, self.h2, self.h3])\n",
    "        return self.o1\n",
    "        \n",
    "    def train(self, inputs, outputs):\n",
    "        learn_rate = 0.001\n",
    "        epochs = 1000\n",
    "        \n",
    "        for epoch in range(epochs):\n",
    "            for x, y in zip(inputs, outputs):\n",
    "                y_predicted = self.feedforward(x)\n",
    "                d_L_d_ypred = derivative_cross_entropy(y_predicted, y)\n",
    "                # Derivatives\n",
    "                # Neuron o1\n",
    "                d_ypred_d_w10 = self.h1 * sigmoid_derivative(self.neuron4.total)\n",
    "                d_ypred_d_w11 = self.h2 * sigmoid_derivative(self.neuron4.total)\n",
    "                d_ypred_d_w12 = self.h3 * sigmoid_derivative(self.neuron4.total)\n",
    "                d_ypred_d_b4 = sigmoid_derivative(self.neuron4.total)\n",
    " \n",
    "                d_ypred_d_h1 = self.neuron4.weights[0] * sigmoid_derivative(self.neuron4.total)\n",
    "                d_ypred_d_h2 = self.neuron4.weights[1] * sigmoid_derivative(self.neuron4.total)\n",
    "                d_ypred_d_h3 = self.neuron4.weights[2] * sigmoid_derivative(self.neuron4.total)\n",
    "            \n",
    "                # Neuron h1\n",
    "                d_h1_d_w1 = x[0] * sigmoid_derivative(self.neuron1.total)\n",
    "                d_h1_d_w2 = x[1] * sigmoid_derivative(self.neuron1.total)\n",
    "                d_h1_d_w3 = x[2] * sigmoid_derivative(self.neuron1.total)\n",
    "                d_h1_d_b1 = sigmoid_derivative(self.neuron1.total)\n",
    "                \n",
    "                # Neuron h2\n",
    "                d_h2_d_w4 = x[0] * sigmoid_derivative(self.neuron2.total)\n",
    "                d_h2_d_w5 = x[1] * sigmoid_derivative(self.neuron2.total)\n",
    "                d_h2_d_w6 = x[2] * sigmoid_derivative(self.neuron2.total)\n",
    "                d_h2_d_b2 = sigmoid_derivative(self.neuron2.total)\n",
    "                \n",
    "                # Neuron h3\n",
    "                d_h3_d_w7 = x[0] * sigmoid_derivative(self.neuron3.total)\n",
    "                d_h3_d_w8 = x[1] * sigmoid_derivative(self.neuron3.total)\n",
    "                d_h3_d_w9 = x[2] * sigmoid_derivative(self.neuron3.total)\n",
    "                d_h3_d_b3 = sigmoid_derivative(self.neuron3.total)\n",
    "                \n",
    "                # New weights and bias\n",
    "                # Neuron h1\n",
    "                self.neuron1.weights[0] -= learn_rate * d_L_d_ypred * d_ypred_d_h1 * d_h1_d_w1\n",
    "                self.neuron1.weights[1] -= learn_rate * d_L_d_ypred * d_ypred_d_h1 * d_h1_d_w2\n",
    "                self.neuron1.weights[2] -= learn_rate * d_L_d_ypred * d_ypred_d_h1 * d_h1_d_w3\n",
    "                self.neuron1.bias -= learn_rate * d_L_d_ypred * d_ypred_d_h1 * d_h1_d_b1\n",
    "                \n",
    "                # Neuron h2\n",
    "                self.neuron2.weights[0] -= learn_rate * d_L_d_ypred * d_ypred_d_h2 * d_h2_d_w4\n",
    "                self.neuron2.weights[1] -= learn_rate * d_L_d_ypred * d_ypred_d_h2 * d_h2_d_w5\n",
    "                self.neuron2.weights[2] -= learn_rate * d_L_d_ypred * d_ypred_d_h2 * d_h2_d_w6\n",
    "                self.neuron2.bias -= learn_rate * d_L_d_ypred * d_ypred_d_h2 * d_h2_d_b2\n",
    "                \n",
    "                # Neuron h3\n",
    "                self.neuron3.weights[0] -= learn_rate * d_L_d_ypred * d_ypred_d_h3 * d_h3_d_w7\n",
    "                self.neuron3.weights[1] -= learn_rate * d_L_d_ypred * d_ypred_d_h3 * d_h3_d_w8\n",
    "                self.neuron3.weights[2] -= learn_rate * d_L_d_ypred * d_ypred_d_h3 * d_h3_d_w9\n",
    "                self.neuron3.bias -= learn_rate * d_L_d_ypred * d_ypred_d_h3 * d_h3_d_b3\n",
    "                \n",
    "                # Neuron o1\n",
    "                self.neuron4.weights[0] -= learn_rate * d_L_d_ypred * d_ypred_d_w10\n",
    "                self.neuron4.weights[1] -= learn_rate * d_L_d_ypred * d_ypred_d_w11\n",
    "                self.neuron4.weights[2] -= learn_rate * d_L_d_ypred * d_ypred_d_w12\n",
    "                self.neuron4.bias -= learn_rate * d_L_d_ypred * d_ypred_d_b4\n",
    "                \n",
    "                # Loss\n",
    "            if epoch % 10 == 0:\n",
    "                y_preds = np.apply_along_axis(self.feedforward, 1, inputs)\n",
    "                loss = cross_entropy(outputs, y_preds)\n",
    "                print(\"Epoch %d loss: %.3f\" % (epoch, loss))"
   ]
  },
  {
   "cell_type": "markdown",
   "metadata": {},
   "source": [
    "### Train"
   ]
  },
  {
   "cell_type": "code",
   "execution_count": 95,
   "metadata": {
    "scrolled": true
   },
   "outputs": [
    {
     "name": "stdout",
     "output_type": "stream",
     "text": [
      "Epoch 0 loss: 0.338\n",
      "Epoch 10 loss: 0.279\n",
      "Epoch 20 loss: 0.175\n",
      "Epoch 30 loss: 0.128\n",
      "Epoch 40 loss: 0.099\n",
      "Epoch 50 loss: 0.083\n",
      "Epoch 60 loss: 0.075\n",
      "Epoch 70 loss: 0.071\n",
      "Epoch 80 loss: 0.068\n",
      "Epoch 90 loss: 0.066\n",
      "Epoch 100 loss: 0.064\n",
      "Epoch 110 loss: 0.063\n",
      "Epoch 120 loss: 0.062\n",
      "Epoch 130 loss: 0.062\n",
      "Epoch 140 loss: 0.061\n",
      "Epoch 150 loss: 0.061\n",
      "Epoch 160 loss: 0.061\n",
      "Epoch 170 loss: 0.061\n",
      "Epoch 180 loss: 0.061\n",
      "Epoch 190 loss: 0.061\n",
      "Epoch 200 loss: 0.061\n",
      "Epoch 210 loss: 0.061\n",
      "Epoch 220 loss: 0.061\n",
      "Epoch 230 loss: 0.061\n",
      "Epoch 240 loss: 0.062\n",
      "Epoch 250 loss: 0.062\n",
      "Epoch 260 loss: 0.062\n",
      "Epoch 270 loss: 0.063\n",
      "Epoch 280 loss: 0.063\n",
      "Epoch 290 loss: 0.063\n",
      "Epoch 300 loss: 0.063\n",
      "Epoch 310 loss: 0.063\n",
      "Epoch 320 loss: 0.064\n",
      "Epoch 330 loss: 0.064\n",
      "Epoch 340 loss: 0.064\n",
      "Epoch 350 loss: 0.064\n",
      "Epoch 360 loss: 0.065\n",
      "Epoch 370 loss: 0.065\n",
      "Epoch 380 loss: 0.066\n",
      "Epoch 390 loss: 0.066\n",
      "Epoch 400 loss: 0.067\n",
      "Epoch 410 loss: 0.067\n",
      "Epoch 420 loss: 0.068\n",
      "Epoch 430 loss: 0.069\n",
      "Epoch 440 loss: 0.070\n",
      "Epoch 450 loss: 0.071\n",
      "Epoch 460 loss: 0.072\n",
      "Epoch 470 loss: 0.073\n",
      "Epoch 480 loss: 0.074\n",
      "Epoch 490 loss: 0.075\n",
      "Epoch 500 loss: 0.076\n",
      "Epoch 510 loss: 0.077\n",
      "Epoch 520 loss: 0.079\n",
      "Epoch 530 loss: 0.080\n",
      "Epoch 540 loss: 0.081\n",
      "Epoch 550 loss: 0.083\n",
      "Epoch 560 loss: 0.084\n",
      "Epoch 570 loss: 0.085\n",
      "Epoch 580 loss: 0.086\n",
      "Epoch 590 loss: 0.087\n",
      "Epoch 600 loss: 0.088\n",
      "Epoch 610 loss: 0.089\n",
      "Epoch 620 loss: 0.090\n",
      "Epoch 630 loss: 0.091\n",
      "Epoch 640 loss: 0.092\n",
      "Epoch 650 loss: 0.093\n",
      "Epoch 660 loss: 0.094\n",
      "Epoch 670 loss: 0.094\n",
      "Epoch 680 loss: 0.094\n",
      "Epoch 690 loss: 0.095\n",
      "Epoch 700 loss: 0.095\n",
      "Epoch 710 loss: 0.095\n",
      "Epoch 720 loss: 0.095\n",
      "Epoch 730 loss: 0.095\n",
      "Epoch 740 loss: 0.095\n",
      "Epoch 750 loss: 0.095\n",
      "Epoch 760 loss: 0.095\n",
      "Epoch 770 loss: 0.095\n",
      "Epoch 780 loss: 0.095\n",
      "Epoch 790 loss: 0.095\n",
      "Epoch 800 loss: 0.095\n",
      "Epoch 810 loss: 0.095\n",
      "Epoch 820 loss: 0.095\n",
      "Epoch 830 loss: 0.095\n",
      "Epoch 840 loss: 0.095\n",
      "Epoch 850 loss: 0.095\n",
      "Epoch 860 loss: 0.095\n",
      "Epoch 870 loss: 0.095\n",
      "Epoch 880 loss: 0.095\n",
      "Epoch 890 loss: 0.095\n",
      "Epoch 900 loss: 0.095\n",
      "Epoch 910 loss: 0.095\n",
      "Epoch 920 loss: 0.095\n",
      "Epoch 930 loss: 0.095\n",
      "Epoch 940 loss: 0.095\n",
      "Epoch 950 loss: 0.095\n",
      "Epoch 960 loss: 0.095\n",
      "Epoch 970 loss: 0.095\n",
      "Epoch 980 loss: 0.095\n",
      "Epoch 990 loss: 0.095\n"
     ]
    }
   ],
   "source": [
    "network = NeuralNetwork()\n",
    "network.train(X_train, Y_train)"
   ]
  },
  {
   "cell_type": "markdown",
   "metadata": {},
   "source": [
    "### Accuracy"
   ]
  },
  {
   "cell_type": "code",
   "execution_count": 96,
   "metadata": {},
   "outputs": [
    {
     "data": {
      "text/plain": [
       "0.7913413768630234"
      ]
     },
     "execution_count": 96,
     "metadata": {},
     "output_type": "execute_result"
    }
   ],
   "source": [
    "accuracy = 0\n",
    "for x, y in zip(X_test, Y_test):\n",
    "    result_network = network.feedforward(x)\n",
    "    result_network = round(result_network)\n",
    "    if (y == result_network):\n",
    "        accuracy += 1\n",
    "accuracy = accuracy / X_test.shape[0]\n",
    "accuracy"
   ]
  }
 ],
 "metadata": {
  "kernelspec": {
   "display_name": "Python 3",
   "language": "python",
   "name": "python3"
  },
  "language_info": {
   "codemirror_mode": {
    "name": "ipython",
    "version": 3
   },
   "file_extension": ".py",
   "mimetype": "text/x-python",
   "name": "python",
   "nbconvert_exporter": "python",
   "pygments_lexer": "ipython3",
   "version": "3.6.10"
  }
 },
 "nbformat": 4,
 "nbformat_minor": 4
}
